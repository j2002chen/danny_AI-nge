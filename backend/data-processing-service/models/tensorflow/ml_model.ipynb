{
 "cells": [
  {
   "cell_type": "code",
   "execution_count": 1,
   "metadata": {},
   "outputs": [],
   "source": [
    "import tensorflow as tf\n",
    "import pandas as pd\n",
    "import numpy as np\n",
    "from sklearn.model_selection import train_test_split\n",
    "from sklearn.preprocessing import MinMaxScaler, StandardScaler\n"
   ]
  },
  {
   "cell_type": "code",
   "execution_count": null,
   "metadata": {},
   "outputs": [],
   "source": [
    "player_data = pd.read_csv(\"player_data.csv\")\n",
    "opposing_team_data = pd.read_csv(\"opposing_team_data.csv\")\n",
    "\n",
    "data = pd.merge(player_data, opposing_team_data, left_on=\"opposing_team\", right_on=\"team_name\")\n",
    "scaler = MinMaxScaler()\n",
    "data[[\"PTS\", \"REB\", \"AST\", \"STL\",\n",
    "      \"BLK\", \"TO\", \"3PM\", \"off_rtg\",\n",
    "      \"def_rtg\", \"tov_pct\", \"reb_pct\",\n",
    "      \"pace\", \"pie\", \"poss\", \"oreb_pct\", \n",
    "      \"dreb_pct\", \"efg_pct\"]] = scaler.fit_transform(data[[\"PTS\", \"REB\", \"AST\", \n",
    "                                                           \"STL\", \"BLK\", \"TO\", \n",
    "                                                           \"3PM\", \"off_rtg\", \"def_rtg\", \n",
    "                                                           \"tov_pct\", \"reb_pct\", \"pace\",\n",
    "                                                           \"pie\", \"poss\", \"oreb_pct\",\n",
    "                                                           \"dreb_pct\", \"efg_pct\"]])\n",
    "\n",
    "\n",
    "input_features   = data[[\"game_id\", \"player_id\", \"PTS\",\n",
    "                         \"REB\", \"AST\", \"STL\", \"BLK\", \"TO\", \n",
    "                         \"3PM\", \"off_rtg\", \"def_rtg\", \n",
    "                         \"tov_pct\",\"reb_pct\", \"pace\", \n",
    "                         \"pie\", \"poss\", \"oreb_pct\", \n",
    "                         \"dreb_pct\", \"efg_pct\"]]\n",
    "\n",
    "target_variables = data[[\"PTS\", \"REB\", \"AST\", \"STL\", \"BLK\", \"TO\", \"3PM\"]]\n",
    "X_train, X_test, y_train, y_test = train_test_split(input_features, target_variables, test_size=0.2)"
   ]
  },
  {
   "cell_type": "code",
   "execution_count": null,
   "metadata": {},
   "outputs": [],
   "source": [
    "weights = np.linspace(1, 0.1, num=40)\n",
    "weights = np.concatenate((weights, np.zeros(X_train.shape[0] - 40)))\n",
    "\n",
    "X_train_weighted = X_train * weights\n",
    "X_test_weighted = X_test * weights\n",
    "scaler = StandardScaler()\n",
    "X_train_norm = scaler.fit_transform(X_train_weighted)\n",
    "X_test_norm = scaler.transform(X_test_weighted)\n",
    "\n"
   ]
  },
  {
   "cell_type": "code",
   "execution_count": null,
   "metadata": {},
   "outputs": [],
   "source": [
    "input_shape = (40, X_train_weighted.shape[1])\n",
    "model = tf.keras.Sequential()\n",
    "model.add(tf.keras.layers.LSTM(32, input_shape=input_shape, use_bias=True))\n",
    "model.add(tf.keras.layers.Dense(64, activation=\"relu\"))\n",
    "model.add(tf.keras.layers.Dense(64, activation=\"relu\"))\n",
    "model.add(tf.keras.layers.Dense(9, activation=\"linear\"))"
   ]
  },
  {
   "cell_type": "code",
   "execution_count": null,
   "metadata": {},
   "outputs": [],
   "source": [
    "optimizer = tf.keras.optimizers.Adam(learning_rate=0.001)\n",
    "model.compile(optimizer=optimizer, loss=\"mean_squared_error\", metrics=[\"accuracy\"])\n",
    " "
   ]
  },
  {
   "cell_type": "code",
   "execution_count": null,
   "metadata": {},
   "outputs": [],
   "source": [
    "model.fit(X_train_norm, y_train, epochs=10, batch_size=32, validation_data=(X_test_norm, y_test))"
   ]
  },
  {
   "cell_type": "code",
   "execution_count": null,
   "metadata": {},
   "outputs": [],
   "source": [
    "predictions = model.predict(X_test_norm)\n",
    "predictions_unnormalized = scaler.inverse_transform(predictions)"
   ]
  }
 ],
 "metadata": {
  "kernelspec": {
   "display_name": "Python 3",
   "language": "python",
   "name": "python3"
  },
  "language_info": {
   "codemirror_mode": {
    "name": "ipython",
    "version": 3
   },
   "file_extension": ".py",
   "mimetype": "text/x-python",
   "name": "python",
   "nbconvert_exporter": "python",
   "pygments_lexer": "ipython3",
   "version": "3.10.0"
  },
  "orig_nbformat": 4,
  "vscode": {
   "interpreter": {
    "hash": "26de051ba29f2982a8de78e945f0abaf191376122a1563185a90213a26c5da77"
   }
  }
 },
 "nbformat": 4,
 "nbformat_minor": 2
}
